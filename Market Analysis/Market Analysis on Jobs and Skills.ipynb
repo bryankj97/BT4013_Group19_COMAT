{
 "cells": [
  {
   "cell_type": "code",
   "execution_count": 1,
   "metadata": {},
   "outputs": [],
   "source": [
    "import pandas as pd\n",
    "import numpy as np\n"
   ]
  },
  {
   "cell_type": "code",
   "execution_count": 2,
   "metadata": {},
   "outputs": [],
   "source": [
    "indeed_df = pd.read_csv(\"datasets/jobskills_indeed.csv\")\n",
    "linkedin_df = pd.read_csv(\"datasets/jobskills_linkedin.csv\")\n",
    "indeed_df = indeed_df.drop([\"Unnamed: 0\"], axis=1)\n",
    "linkedin_df = linkedin_df.drop([\"Unnamed: 0\"], axis=1)\n",
    "linkedin_df = linkedin_df.rename(columns={\"Post\": \"Job Title\"})"
   ]
  },
  {
   "cell_type": "code",
   "execution_count": 11,
   "metadata": {},
   "outputs": [
    {
     "data": {
      "text/html": [
       "<div>\n",
       "<style scoped>\n",
       "    .dataframe tbody tr th:only-of-type {\n",
       "        vertical-align: middle;\n",
       "    }\n",
       "\n",
       "    .dataframe tbody tr th {\n",
       "        vertical-align: top;\n",
       "    }\n",
       "\n",
       "    .dataframe thead th {\n",
       "        text-align: right;\n",
       "    }\n",
       "</style>\n",
       "<table border=\"1\" class=\"dataframe\">\n",
       "  <thead>\n",
       "    <tr style=\"text-align: right;\">\n",
       "      <th></th>\n",
       "      <th>Job Title</th>\n",
       "      <th>Company Name</th>\n",
       "      <th>Skill</th>\n",
       "    </tr>\n",
       "  </thead>\n",
       "  <tbody>\n",
       "    <tr>\n",
       "      <th>0</th>\n",
       "      <td>Software Development Engineer</td>\n",
       "      <td>THE SOFTWARE PRACTICE PTE. LTD.</td>\n",
       "      <td>scratch</td>\n",
       "    </tr>\n",
       "    <tr>\n",
       "      <th>1</th>\n",
       "      <td>Software Development Engineer (Front-end)</td>\n",
       "      <td>THE SOFTWARE PRACTICE PTE. LTD.</td>\n",
       "      <td>scratch</td>\n",
       "    </tr>\n",
       "    <tr>\n",
       "      <th>2</th>\n",
       "      <td>Tuition Centre Administrator</td>\n",
       "      <td>Achievers Dream Learning Centre</td>\n",
       "      <td>scratch</td>\n",
       "    </tr>\n",
       "    <tr>\n",
       "      <th>3</th>\n",
       "      <td>Part-Time Tuition Centre Administrator</td>\n",
       "      <td>Achievers Dream Learning Centre</td>\n",
       "      <td>scratch</td>\n",
       "    </tr>\n",
       "    <tr>\n",
       "      <th>4</th>\n",
       "      <td>Trainee/Senior Bunker Trader</td>\n",
       "      <td>SEA OIL PETROLEUM PTE. LTD.</td>\n",
       "      <td>scratch</td>\n",
       "    </tr>\n",
       "  </tbody>\n",
       "</table>\n",
       "</div>"
      ],
      "text/plain": [
       "                                   Job Title                     Company Name  \\\n",
       "0              Software Development Engineer  THE SOFTWARE PRACTICE PTE. LTD.   \n",
       "1  Software Development Engineer (Front-end)  THE SOFTWARE PRACTICE PTE. LTD.   \n",
       "2               Tuition Centre Administrator  Achievers Dream Learning Centre   \n",
       "3     Part-Time Tuition Centre Administrator  Achievers Dream Learning Centre   \n",
       "4               Trainee/Senior Bunker Trader      SEA OIL PETROLEUM PTE. LTD.   \n",
       "\n",
       "     Skill  \n",
       "0  scratch  \n",
       "1  scratch  \n",
       "2  scratch  \n",
       "3  scratch  \n",
       "4  scratch  "
      ]
     },
     "execution_count": 11,
     "metadata": {},
     "output_type": "execute_result"
    }
   ],
   "source": [
    "indeed_df.head()"
   ]
  },
  {
   "cell_type": "code",
   "execution_count": 10,
   "metadata": {},
   "outputs": [
    {
     "data": {
      "text/html": [
       "<div>\n",
       "<style scoped>\n",
       "    .dataframe tbody tr th:only-of-type {\n",
       "        vertical-align: middle;\n",
       "    }\n",
       "\n",
       "    .dataframe tbody tr th {\n",
       "        vertical-align: top;\n",
       "    }\n",
       "\n",
       "    .dataframe thead th {\n",
       "        text-align: right;\n",
       "    }\n",
       "</style>\n",
       "<table border=\"1\" class=\"dataframe\">\n",
       "  <thead>\n",
       "    <tr style=\"text-align: right;\">\n",
       "      <th></th>\n",
       "      <th>Job Title</th>\n",
       "      <th>Company Name</th>\n",
       "      <th>Skill</th>\n",
       "    </tr>\n",
       "  </thead>\n",
       "  <tbody>\n",
       "    <tr>\n",
       "      <th>0</th>\n",
       "      <td>Software Engineer</td>\n",
       "      <td>IRVINS</td>\n",
       "      <td>scratch</td>\n",
       "    </tr>\n",
       "    <tr>\n",
       "      <th>1</th>\n",
       "      <td>Head of Product</td>\n",
       "      <td>IRVINS</td>\n",
       "      <td>scratch</td>\n",
       "    </tr>\n",
       "    <tr>\n",
       "      <th>2</th>\n",
       "      <td>Food Tech Executive</td>\n",
       "      <td>IRVINS</td>\n",
       "      <td>scratch</td>\n",
       "    </tr>\n",
       "    <tr>\n",
       "      <th>3</th>\n",
       "      <td>Customer Experience Research Leader – VP</td>\n",
       "      <td>Charterhouse Singapore</td>\n",
       "      <td>scratch</td>\n",
       "    </tr>\n",
       "    <tr>\n",
       "      <th>4</th>\n",
       "      <td>Marketing and Communications Specialist - Fres...</td>\n",
       "      <td>Relentless</td>\n",
       "      <td>scratch</td>\n",
       "    </tr>\n",
       "  </tbody>\n",
       "</table>\n",
       "</div>"
      ],
      "text/plain": [
       "                                           Job Title            Company Name  \\\n",
       "0                                  Software Engineer                  IRVINS   \n",
       "1                                    Head of Product                  IRVINS   \n",
       "2                                Food Tech Executive                  IRVINS   \n",
       "3           Customer Experience Research Leader – VP  Charterhouse Singapore   \n",
       "4  Marketing and Communications Specialist - Fres...              Relentless   \n",
       "\n",
       "     Skill  \n",
       "0  scratch  \n",
       "1  scratch  \n",
       "2  scratch  \n",
       "3  scratch  \n",
       "4  scratch  "
      ]
     },
     "execution_count": 10,
     "metadata": {},
     "output_type": "execute_result"
    }
   ],
   "source": [
    "linkedin_df.head()"
   ]
  },
  {
   "cell_type": "markdown",
   "metadata": {},
   "source": [
    "## Aggregate number of companies and post types for each skill"
   ]
  },
  {
   "cell_type": "code",
   "execution_count": 3,
   "metadata": {},
   "outputs": [],
   "source": [
    "frames = [indeed_df, linkedin_df]\n",
    "df = pd.concat(frames)"
   ]
  },
  {
   "cell_type": "code",
   "execution_count": 4,
   "metadata": {},
   "outputs": [],
   "source": [
    "df.to_csv(\"job_data.csv\")"
   ]
  },
  {
   "cell_type": "code",
   "execution_count": 12,
   "metadata": {},
   "outputs": [],
   "source": [
    "by_occurences = df.groupby(['Skill']).count()\n",
    "by_jobtypes = pd.DataFrame(df.groupby('Skill')[\"Job Title\"].nunique())\n",
    "by_companies = pd.DataFrame(df.groupby('Skill')[\"Company Name\"].nunique())"
   ]
  },
  {
   "cell_type": "code",
   "execution_count": 13,
   "metadata": {},
   "outputs": [],
   "source": [
    "by_occurences[\"Job Title\"].reset_index(drop=True, inplace=True)\n",
    "by_jobtypes[\"Job Title\"].reset_index(drop=True, inplace=True)\n",
    "by_companies[\"Company Name\"].reset_index(drop=True, inplace=True)"
   ]
  },
  {
   "cell_type": "code",
   "execution_count": 14,
   "metadata": {},
   "outputs": [
    {
     "data": {
      "text/html": [
       "<div>\n",
       "<style scoped>\n",
       "    .dataframe tbody tr th:only-of-type {\n",
       "        vertical-align: middle;\n",
       "    }\n",
       "\n",
       "    .dataframe tbody tr th {\n",
       "        vertical-align: top;\n",
       "    }\n",
       "\n",
       "    .dataframe thead th {\n",
       "        text-align: right;\n",
       "    }\n",
       "</style>\n",
       "<table border=\"1\" class=\"dataframe\">\n",
       "  <thead>\n",
       "    <tr style=\"text-align: right;\">\n",
       "      <th></th>\n",
       "      <th>Skill</th>\n",
       "      <th>Occurences</th>\n",
       "      <th>Job Types</th>\n",
       "      <th>Companies</th>\n",
       "    </tr>\n",
       "  </thead>\n",
       "  <tbody>\n",
       "    <tr>\n",
       "      <th>0</th>\n",
       "      <td>Angular</td>\n",
       "      <td>204</td>\n",
       "      <td>158</td>\n",
       "      <td>151</td>\n",
       "    </tr>\n",
       "    <tr>\n",
       "      <th>1</th>\n",
       "      <td>Arduino</td>\n",
       "      <td>196</td>\n",
       "      <td>128</td>\n",
       "      <td>97</td>\n",
       "    </tr>\n",
       "    <tr>\n",
       "      <th>2</th>\n",
       "      <td>Bootstrap</td>\n",
       "      <td>205</td>\n",
       "      <td>158</td>\n",
       "      <td>150</td>\n",
       "    </tr>\n",
       "    <tr>\n",
       "      <th>3</th>\n",
       "      <td>Django</td>\n",
       "      <td>205</td>\n",
       "      <td>129</td>\n",
       "      <td>135</td>\n",
       "    </tr>\n",
       "    <tr>\n",
       "      <th>4</th>\n",
       "      <td>Docker</td>\n",
       "      <td>204</td>\n",
       "      <td>171</td>\n",
       "      <td>166</td>\n",
       "    </tr>\n",
       "  </tbody>\n",
       "</table>\n",
       "</div>"
      ],
      "text/plain": [
       "       Skill  Occurences  Job Types  Companies\n",
       "0    Angular         204        158        151\n",
       "1    Arduino         196        128         97\n",
       "2  Bootstrap         205        158        150\n",
       "3     Django         205        129        135\n",
       "4     Docker         204        171        166"
      ]
     },
     "execution_count": 14,
     "metadata": {},
     "output_type": "execute_result"
    }
   ],
   "source": [
    "df = pd.DataFrame()\n",
    "df[\"Skill\"] = by_occurences.index\n",
    "df[\"Occurences\"] = by_occurences[\"Job Title\"]\n",
    "df[\"Job Types\"] = by_jobtypes[\"Job Title\"]\n",
    "df[\"Companies\"] = by_companies[\"Company Name\"]\n",
    "df.head()"
   ]
  },
  {
   "cell_type": "code",
   "execution_count": 15,
   "metadata": {},
   "outputs": [],
   "source": [
    "df.to_csv(\"job_aggregation.csv\", index=False)"
   ]
  },
  {
   "cell_type": "code",
   "execution_count": null,
   "metadata": {},
   "outputs": [],
   "source": []
  }
 ],
 "metadata": {
  "kernelspec": {
   "display_name": "Python 3 (ipykernel)",
   "language": "python",
   "name": "python3"
  },
  "language_info": {
   "codemirror_mode": {
    "name": "ipython",
    "version": 3
   },
   "file_extension": ".py",
   "mimetype": "text/x-python",
   "name": "python",
   "nbconvert_exporter": "python",
   "pygments_lexer": "ipython3",
   "version": "3.7.3"
  }
 },
 "nbformat": 4,
 "nbformat_minor": 2
}
